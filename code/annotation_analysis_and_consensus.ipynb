{
 "cells": [
  {
   "cell_type": "markdown",
   "metadata": {},
   "source": [
    "# Annotation Analysis and Consensus"
   ]
  },
  {
   "cell_type": "markdown",
   "metadata": {},
   "source": [
    "## Imports"
   ]
  },
  {
   "cell_type": "code",
   "execution_count": 1,
   "metadata": {},
   "outputs": [],
   "source": [
    "# Standard imports\n",
    "import numpy as np\n",
    "import pandas as pd\n",
    "import seaborn as sns\n",
    "import matplotlib.pyplot as plt\n",
    "pal = sns.color_palette('Set2')[:2][::-1] + ['grey']\n",
    "\n",
    "# OS imports\n",
    "from os.path import join as ospj\n",
    "from os.path import exists as ospe\n",
    "import sys\n",
    "\n",
    "# from ieeg.auth import Session # Don't need this if running from checkpoints\n",
    "from utils import clean_labels, remove_scalp_electrodes, get_rpath, calculate_seizure_similarity, plot_seizure_similarity\n",
    "from config import Config\n",
    "\n",
    "# Load in the data\n",
    "metapath, prodatapath, figpath = Config.deal(['metapath','prodatapath','figpath'])\n"
   ]
  },
  {
   "attachments": {},
   "cell_type": "markdown",
   "metadata": {},
   "source": [
    "## Workspace Preparation"
   ]
  },
  {
   "cell_type": "code",
   "execution_count": 2,
   "metadata": {},
   "outputs": [],
   "source": [
    "# Loading seizure onset meta data\n",
    "sz_metadata = pd.read_csv(ospj(metapath,'stim_seizure_information - LF_seizure_annotation.csv'))"
   ]
  },
  {
   "cell_type": "code",
   "execution_count": 3,
   "metadata": {},
   "outputs": [],
   "source": [
    "def combine_ch_annots(group):\n",
    "    ret = {\"clinician\": [],\n",
    "           \"patient\": [],\n",
    "           \"ueo\": [],\n",
    "           \"ueo_time\": [],\n",
    "           \"sec\": []\n",
    "          }\n",
    "    # Sorting seizure annotations by clinician\n",
    "    group.sort_values(by='Clinician',inplace=True)\n",
    "    # Unifying and extracting iEEG name\n",
    "    group['IEEGname'] = group['IEEGname'].fillna(method='ffill').fillna(method='bfill')\n",
    "    ieeg_name = group['IEEGname'].iloc[0]\n",
    "    pt = group['Patient'].iloc[0]\n",
    "    # Get all channels from iEEG portal\n",
    "    with open('woj_ieeglogin.bin', 'r') as f:\n",
    "        session = Session('wojemann', f.read())\n",
    "    ds = session.open_dataset(ieeg_name)\n",
    "    # Clean channel labels\n",
    "    raw_labels = clean_labels(ds.get_channel_labels(),pt)\n",
    "    # Remove scalp electrodes from channels\n",
    "    all_chs = remove_scalp_electrodes(raw_labels)\n",
    "\n",
    "    for _,row in group.iterrows(): # for each annotation in seizure\n",
    "        for i,v in row.items(): # for each column in annotation\n",
    "            if not isinstance(v,list): # filling in nan's as empty list to ensure formatting consistency\n",
    "                if pd.isna(v):\n",
    "                    row[i] = []\n",
    "        # Adding anntotor and patient data\n",
    "        ret[\"clinician\"].append(row.Clinician)\n",
    "        ret[\"patient\"] = row.Patient\n",
    "        # Adding UEO and Spread channel ifnormation\n",
    "        ret[\"ueo\"].append([l in clean_labels(row.UEO_ch,pt) for l in all_chs])\n",
    "        ret[\"sec\"].append([l in clean_labels(row[\"10sec_ch\"],pt) for l in all_chs])\n",
    "        # Adding anntotated start time\n",
    "        ret[\"ueo_time\"].append(float(row.UEO_time))\n",
    "        \n",
    "    # Adding in additional patient metadata to table from originnal stim seizure metadata\n",
    "    ret[\"all_chs\"] = all_chs\n",
    "    ret[\"iEEG_ID\"] = row[\"IEEGname\"]\n",
    "    ret[\"approximate_onset\"] = row[\"approximate_onset\"]\n",
    "    ret[\"offset\"] = row[\"end\"]\n",
    "    ret[\"stim\"] = row[\"stim\"]\n",
    "        \n",
    "    return pd.Series(ret)\n",
    "\n",
    "def create_consensus(row):\n",
    "    for key in [\"ueo\",\"sec\"]:\n",
    "        row[f\"{key}_consensus\"] = np.array(np.sum(np.array(row[key]).astype(int),axis=0) >= (len(row[key])/2)).astype(bool)\n",
    "        row[f\"{key}_any\"] = np.array(np.sum(np.array(row[key]).astype(int),axis=0) >= 1).astype(bool)\n",
    "        if key == 'ueo':\n",
    "            row[f\"{key}_time_consensus\"] = np.median(row[f\"{key}_time\"])\n",
    "    return row"
   ]
  },
  {
   "cell_type": "markdown",
   "metadata": {},
   "source": [
    "## Creating consensus"
   ]
  },
  {
   "cell_type": "markdown",
   "metadata": {},
   "source": [
    "We do not make the individual reviewer tables available as metadata, however all of the relevant annotations are available in the produced intermediate result: \"threshold_tuning_consensus_v2.pkl\""
   ]
  },
  {
   "cell_type": "code",
   "execution_count": 4,
   "metadata": {},
   "outputs": [],
   "source": [
    "# annotators = np.sort(['EC','CK','DZ','JJ','JK']) # annotator list\n",
    "# time_labels = ['UEO_time'] # onset time label\n",
    "# clinician_tables = {}\n",
    "# for clin in annotators:\n",
    "#     # Load in secondary annotation push\n",
    "#     annot_table = pd.read_csv(ospj(metapath,f\"stim_seizure_annotations_{clin}.csv\"))\n",
    "#     # Load in annotations from initial assessment\n",
    "#     demo_table = pd.read_csv(ospj(metapath,f\"stim_seizure_information - {clin}_annotation_demo.csv\"))\n",
    "#     # Unifying onset column name\n",
    "#     demo_table.columns = [c if c != 'Onset' else 'approximate_onset' for c in demo_table.columns]\n",
    "    \n",
    "#     # Load in additional annotations\n",
    "    \n",
    "#     # Aggregating tables across clinicians and annotation sections\n",
    "#     clinician_tables[clin] = []\n",
    "#     clinician_tables[clin].append(annot_table)\n",
    "#     clinician_tables[clin].append(demo_table)\n",
    "#     if clin in ['EC','DZ']:\n",
    "#         new_table = pd.read_csv(ospj(metapath,f\"stim_seizure_information - {clin}_makeup.csv\"))\n",
    "#         new_table = new_table[[\"Patient\",\"IEEGname\",\"approximate_onset\",\"end\",\"stim\",\"stim_channels\",\"annotators\",\"UEO_time\",\"UEO_ch\",\"10sec_ch\"]]\n",
    "#         clinician_tables[clin].append(new_table)\n",
    "\n",
    "# # Organizing dataframes into a list for concatenation\n",
    "# df_list = [df for l in clinician_tables.values() for df in l]\n",
    "# # Getting annotator key for each DF\n",
    "# # key_list = np.array([[key]*len(clinician_tables[key]) for key in clinician_tables.keys()]).flatten()\n",
    "# key_list = np.array(list(itertools.chain.from_iterable([[key]*len(clinician_tables[key]) for key in clinician_tables.keys()])))\n",
    "\n",
    "# # Combining DFs\n",
    "# combined_df = pd.concat(df_list, keys=key_list, names=['Clinician'])\n",
    "\n",
    "# # Reset index to avoid having MultiIndex\n",
    "# combined_df.reset_index(inplace=True)\n",
    "\n",
    "# # Drop nan rows from csv loading\n",
    "# combined_df = combined_df.dropna(axis=0,how='any',subset=['UEO_ch'])\n",
    "\n",
    "# # Create a unique identifier for each seizure\n",
    "# combined_df['Seizure_ID'] = combined_df.groupby(['Patient', 'Clinician']).cumcount() + 1\n",
    "# combined_df['Seizure_ID'] = combined_df['Patient'] + '_' + combined_df['Seizure_ID'].astype(int).astype(str)\n",
    "# combined_df = combined_df.drop(['level_1'],axis=1)\n",
    "\n",
    "# # Turning strings of channels to a list\n",
    "# combined_df['UEO_ch'] = combined_df['UEO_ch'].str.split(',')\n",
    "# combined_df['10sec_ch'] = combined_df['10sec_ch'].str.split(',')"
   ]
  },
  {
   "cell_type": "code",
   "execution_count": 5,
   "metadata": {},
   "outputs": [
    {
     "data": {
      "text/plain": [
       "array(['CHOP005', 'CHOP010', 'CHOP015', 'CHOP024', 'CHOP026', 'CHOP028',\n",
       "       'CHOP035', 'CHOP037', 'CHOP038', 'CHOP041', 'CHOP044', 'CHOP045',\n",
       "       'CHOP046', 'CHOP049', 'HUP224', 'HUP225', 'HUP229', 'HUP230',\n",
       "       'HUP235', 'HUP238', 'HUP246', 'HUP247', 'HUP249', 'HUP250',\n",
       "       'HUP253', 'HUP257', 'HUP261', 'HUP263', 'HUP266', 'HUP267',\n",
       "       'HUP273', 'HUP275', 'HUP288'], dtype=object)"
      ]
     },
     "execution_count": 5,
     "metadata": {},
     "output_type": "execute_result"
    }
   ],
   "source": [
    "# combined_tuning_annots = combined_df.groupby('Seizure_ID').apply(combine_ch_annots).reset_index()\n",
    "# # combined_tuning_annots.to_pickle(ospj(prodatapath,'raw_combined_clinician_annotations.pkl'))\n",
    "# # combined_tuning_annots = pd.read_pickle(ospj(prodatapath,'raw_combined_clinician_annotations.pkl'))\n",
    "# consensus_tuning_annots = combined_tuning_annots.apply(create_consensus,axis=1)\n",
    "# consensus_tuning_annots.to_pickle(ospj(prodatapath,\"threshold_tuning_consensus_v2.pkl\"))\n",
    "consensus_tuning_annots = pd.read_pickle(ospj(prodatapath,\"threshold_tuning_consensus_v2.pkl\"))\n",
    "consensus_tuning_annots.patient.unique()"
   ]
  },
  {
   "cell_type": "markdown",
   "metadata": {},
   "source": [
    "## Manual annotation analysis"
   ]
  },
  {
   "cell_type": "code",
   "execution_count": 6,
   "metadata": {},
   "outputs": [],
   "source": [
    "consensus_annots = pd.read_pickle(ospj(prodatapath,\"threshold_tuning_consensus_v2.pkl\"))\n",
    "consensus_annots = consensus_annots.sort_values('approximate_onset')\n",
    "seizures_df = pd.read_csv(ospj(metapath,\"stim_seizure_information - LF_seizure_annotation.csv\"))\n",
    "seizures_df.dropna(axis=0,how='all',inplace=True)\n",
    "seizures_df.rename(columns=dict(Patient='patient',IEEGname='iEEG_ID'),inplace=True)\n",
    "seizures_df['approximate_onset'].fillna(seizures_df['UEO'],inplace=True)\n",
    "seizures_df['approximate_onset'].fillna(seizures_df['EEC'],inplace=True)\n",
    "seizures_df['approximate_onset'].fillna(seizures_df['Other_onset_description'],inplace=True)\n",
    "# drop HF stim induced seizures from patients with both HF and LF stim\n",
    "seizures_df = seizures_df[seizures_df.stim != 2]\n",
    "seizures_df.sort_values('approximate_onset',inplace=True)"
   ]
  },
  {
   "cell_type": "code",
   "execution_count": 7,
   "metadata": {},
   "outputs": [],
   "source": [
    "consensus_annots = pd.merge_asof(consensus_annots,\n",
    "            seizures_df[['approximate_onset','patient',\"iEEG_ID\",\"typical\",\"stim_channels\"]],\n",
    "            on='approximate_onset',by=['patient','iEEG_ID'],\n",
    "            tolerance = 240, # Include a tolerance for small variations in onset time between metadata sources\n",
    "            direction='nearest')"
   ]
  },
  {
   "cell_type": "markdown",
   "metadata": {},
   "source": [
    "### Channels"
   ]
  },
  {
   "cell_type": "markdown",
   "metadata": {},
   "source": [
    "#### Stim seizures localizing onset"
   ]
  },
  {
   "cell_type": "code",
   "execution_count": 8,
   "metadata": {},
   "outputs": [
    {
     "name": "stdout",
     "output_type": "stream",
     "text": [
      "Skipped ['CHOP005', 'CHOP010', 'CHOP015', 'CHOP024', 'CHOP026', 'CHOP028', 'CHOP035', 'CHOP037', 'CHOP038', 'CHOP041', 'CHOP044', 'CHOP045', 'CHOP046', 'CHOP049', 'HUP229', 'HUP246', 'HUP261', 'HUP267', 'HUP273', 'HUP275', 'HUP288'] due to insufficient spontaneous seizures\n",
      "p-value annotation legend:\n",
      "      ns: 5.00e-02 < p <= 1.00e+00\n",
      "       *: 1.00e-02 < p <= 5.00e-02\n",
      "      **: 1.00e-03 < p <= 1.00e-02\n",
      "     ***: 1.00e-04 < p <= 1.00e-03\n",
      "    ****: p <= 1.00e-04\n",
      "\n",
      "False vs. True: Wilcoxon test (paired samples), P_val:5.371e-02 Stat=1.100e+01\n",
      "Spontaneous: N = 12 1.00 [1.00, 1.00]\n",
      "Stim: N = 12 0.59 [0.37, 0.85]\n"
     ]
    },
    {
     "data": {
      "image/png": "[encoded data removed]",
      "text/plain": [
       "<Figure size 400x500 with 1 Axes>"
      ]
     },
     "metadata": {},
     "output_type": "display_data"
    }
   ],
   "source": [
    "channel_onset_df = calculate_seizure_similarity(consensus_annots)\n",
    "agreement='MCC'\n",
    "_ = plot_seizure_similarity(channel_onset_df,annot_type=' Onset',sz_level=False)\n",
    "plt.savefig(ospj(figpath,\"figure_S2_A.pdf\"),bbox_inches='tight')"
   ]
  },
  {
   "cell_type": "markdown",
   "metadata": {},
   "source": [
    "### Regions"
   ]
  },
  {
   "cell_type": "markdown",
   "metadata": {},
   "source": [
    "#### Annotating Onsets"
   ]
  },
  {
   "cell_type": "code",
   "execution_count": 9,
   "metadata": {},
   "outputs": [],
   "source": [
    "pt_groups = consensus_annots.groupby('patient')\n",
    "for pt,group in pt_groups:\n",
    "    region_path = get_rpath(prodatapath,pt)\n",
    "    if not ospe(region_path):\n",
    "        continue\n",
    "    electrode_regions = pd.read_pickle(region_path)\n",
    "    # electrode_regions = surgical_parcellation(electrode_regions)\n",
    "    for idx,row in group.iterrows():\n",
    "        consensus_annots.at[idx,'all_rs'] = np.array(electrode_regions[electrode_regions.name.isin(row['all_chs'])]['label'].unique())\n",
    "        for col in ['ueo_consensus','ueo_any','sec_consensus','sec_any']:\n",
    "            chs = np.array(row.all_chs)[row[col]]\n",
    "            electrode_locals = np.array([l for l in electrode_regions[electrode_regions.name.isin(chs)]['label'].unique() if l != 'EmptyLabel'])\n",
    "            consensus_annots.at[idx,col+'_rs'] = np.array([l in electrode_locals for l in consensus_annots.loc[idx,'all_rs']])\n",
    "consensus_annots_rs = consensus_annots.dropna(axis=0,subset='ueo_consensus_rs')\n",
    "consensus_annots_rs.sort_values(['patient','iEEG_ID','approximate_onset'],inplace=True)"
   ]
  },
  {
   "cell_type": "code",
   "execution_count": 10,
   "metadata": {},
   "outputs": [
    {
     "name": "stdout",
     "output_type": "stream",
     "text": [
      "Skipped ['CHOP005', 'CHOP010', 'CHOP015', 'CHOP024', 'CHOP026', 'CHOP028', 'CHOP035', 'CHOP037', 'CHOP041', 'CHOP044', 'CHOP045', 'CHOP049', 'HUP229', 'HUP246', 'HUP261', 'HUP267', 'HUP273', 'HUP275', 'HUP288'] due to insufficient spontaneous seizures\n",
      "p-value annotation legend:\n",
      "      ns: 5.00e-02 < p <= 1.00e+00\n",
      "       *: 1.00e-02 < p <= 5.00e-02\n",
      "      **: 1.00e-03 < p <= 1.00e-02\n",
      "     ***: 1.00e-04 < p <= 1.00e-03\n",
      "    ****: p <= 1.00e-04\n",
      "\n",
      "False vs. True: Wilcoxon test (paired samples), P_val:3.750e-01 Stat=8.000e+00\n",
      "Spontaneous: N = 12 1.00 [0.68, 1.00]\n",
      "Stim: N = 12 0.69 [0.00, 1.00]\n"
     ]
    },
    {
     "data": {
      "image/png": "[encoded data removed]",
      "text/plain": [
       "<Figure size 400x500 with 1 Axes>"
      ]
     },
     "metadata": {},
     "output_type": "display_data"
    }
   ],
   "source": [
    "channel_onset_df = calculate_seizure_similarity(consensus_annots_rs,first_annot='ueo_consensus_rs',second_annot='ueo_consensus_rs')\n",
    "_ = plot_seizure_similarity(channel_onset_df,annot_type=' Onset',palette=pal,agreement='MCC',sz_level=False)\n",
    "plt.savefig(ospj(figpath,\"figure_S2_B.pdf\"),bbox_inches='tight')"
   ]
  }
 ],
 "metadata": {
  "kernelspec": {
   "display_name": "stim-env",
   "language": "python",
   "name": "python3"
  },
  "language_info": {
   "codemirror_mode": {
    "name": "ipython",
    "version": 3
   },
   "file_extension": ".py",
   "mimetype": "text/x-python",
   "name": "python",
   "nbconvert_exporter": "python",
   "pygments_lexer": "ipython3",
   "version": "3.10.16"
  },
  "orig_nbformat": 4
 },
 "nbformat": 4,
 "nbformat_minor": 2
}
