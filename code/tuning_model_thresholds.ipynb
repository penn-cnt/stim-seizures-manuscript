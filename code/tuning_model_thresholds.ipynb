{
 "cells": [
  {
   "cell_type": "markdown",
   "metadata": {},
   "source": [
    "# Tuning and Validating Model Thresholds\n",
    "\n",
    "This notebook analyzes optimal classification thresholds for seizure onset detection models by comparing against clinician consensus annotations."
   ]
  },
  {
   "cell_type": "code",
   "execution_count": 1,
   "metadata": {},
   "outputs": [],
   "source": [
    "# Enable automatic reloading of modules for development\n",
    "%load_ext autoreload\n",
    "%autoreload 2"
   ]
  },
  {
   "cell_type": "code",
   "execution_count": 2,
   "metadata": {},
   "outputs": [],
   "source": [
    "# Import libraries for data analysis and visualization\n",
    "import numpy as np\n",
    "import scipy as sc\n",
    "import pandas as pd\n",
    "\n",
    "# Metrics for model evaluation - MCC is primary agreement metric\n",
    "from sklearn.metrics import matthews_corrcoef\n",
    "\n",
    "# Plotting libraries for publication-quality figures\n",
    "import matplotlib.pyplot as plt\n",
    "import seaborn as sns\n",
    "from statannotations.Annotator import Annotator\n",
    "\n",
    "# Project-specific utilities and configuration\n",
    "from os.path import join as ospj\n",
    "from utils import *\n",
    "\n",
    "from config import Config\n",
    "prodatapath, figpath = Config.deal(attrs=['prodatapath','figpath'])  # Get data and figure paths"
   ]
  },
  {
   "cell_type": "markdown",
   "metadata": {},
   "source": [
    "## Clinician Consensus Analysis\n",
    "\n",
    "Load and process expert clinician annotations to establish ground truth for model evaluation."
   ]
  },
  {
   "cell_type": "code",
   "execution_count": 3,
   "metadata": {},
   "outputs": [],
   "source": [
    "# Load consensus annotations from multiple clinicians\n",
    "consensus_annots = pd.read_pickle(ospj(prodatapath,'threshold_tuning_consensus_v2.pkl'))\n",
    "consensus_annots.loc[consensus_annots.Seizure_ID == 'HUP249_3','stim'] = 1.0  # Correct stim status for specific seizure\n",
    "consensus_annots = consensus_annots[consensus_annots.patient != 'CHOP038']   # Exclude problematic patient"
   ]
  },
  {
   "cell_type": "code",
   "execution_count": 4,
   "metadata": {},
   "outputs": [],
   "source": [
    "# Calculate inter-rater agreement for onset (ueo) annotations\n",
    "note_type = 'ueo'  # Use \"Unequivocal Electrographic Onset\" annotations\n",
    "\n",
    "# For each seizure, compute pairwise MCC between all clinician pairs\n",
    "for i_r, row in consensus_annots.iterrows():\n",
    "    scores = 0\n",
    "    annots = row[note_type]  # List of binary channel annotations from different clinicians\n",
    "    if len(annots) < 2:  # Need at least 2 annotators\n",
    "        continue\n",
    "    \n",
    "    # Calculate MCC for all pairs of clinicians\n",
    "    for i_annot in range(len(annots)):\n",
    "        for j_annot in range(i_annot+1,len(annots)):\n",
    "            scores += matthews_corrcoef(annots[i_annot],annots[j_annot])\n",
    "    \n",
    "    # Average MCC across all pairs\n",
    "    consensus_annots.loc[i_r,'f1'] = scores/(len(annots)*(len(annots)-1)/2)\n",
    "\n",
    "# Label for plotting\n",
    "consensus_annots[\"model\"] = [\"Clin.\"]*len(consensus_annots)\n",
    "consensus_annots[\"MCC\"] = consensus_annots[\"f1\"]"
   ]
  },
  {
   "cell_type": "code",
   "execution_count": 5,
   "metadata": {},
   "outputs": [
    {
     "data": {
      "image/png": "[encoded data removed]",
      "text/plain": [
       "<Figure size 150x600 with 1 Axes>"
      ]
     },
     "metadata": {},
     "output_type": "display_data"
    },
    {
     "name": "stdout",
     "output_type": "stream",
     "text": [
      "0.6436884593447756\n"
     ]
    }
   ],
   "source": [
    "# Plot distribution of inter-rater agreement scores\n",
    "plt.figure(figsize=(1.5,6))\n",
    "sns.boxplot(consensus_annots[\"MCC\"],color='gray',fill=False,notch=True,width=0.6)  # Box shows quartiles\n",
    "sns.swarmplot(consensus_annots[\"MCC\"],color='gray',alpha=0.7)  # Individual points\n",
    "sns.despine()\n",
    "plt.title('Onset')\n",
    "plt.ylabel('Inter-rater agreement (MCC)')\n",
    "plt.ylim([-.2,1.05])\n",
    "plt.xticks([])\n",
    "plt.show()\n",
    "print(consensus_annots.MCC.mean())  # Print average agreement"
   ]
  },
  {
   "cell_type": "markdown",
   "metadata": {},
   "source": [
    "## Supervised Thresholding\n",
    "\n",
    "Optimize model classification thresholds using clinician consensus as ground truth. This section finds the optimal decision thresholds for each patient by maximizing agreement with expert annotations."
   ]
  },
  {
   "cell_type": "markdown",
   "metadata": {},
   "source": [
    "### Data prep\n",
    "\n",
    "Load and configure model predictions with ground truth annotations for threshold optimization."
   ]
  },
  {
   "cell_type": "code",
   "execution_count": 6,
   "metadata": {},
   "outputs": [],
   "source": [
    "# Set annotation parameters for model evaluation\n",
    "anntype='consensus'  # Use consensus ground truth from multiple clinicians\n",
    "mdl_anntype = 'strict'  # Use strict model predictions (high confidence threshold)\n",
    "montage = 'bipolar'  # Electrode configuration\n",
    "\n",
    "# Load pre-computed model predictions with varying classification thresholds\n",
    "# These predictions were generated across multiple threshold values for optimization\n",
    "mdl_preds = pd.read_pickle(ospj(prodatapath,f\"pretrain_predicted_channels_wmcc_epoch-10_min-False_mov-mean-20-prob_v3.pkl\"))\n",
    "mdl_preds.rename(columns={'Patient':'patient'},inplace=True)  # Standardize column name\n",
    "mdl_preds.loc[mdl_preds.approximate_onset == 439029.32,'stim'] = 1.0  # Fix stimulation status for specific seizure\n",
    "mdl_preds = mdl_preds[mdl_preds.patient != 'CHOP015']  # Remove patient with data quality issues\n"
   ]
  },
  {
   "cell_type": "code",
   "execution_count": 7,
   "metadata": {},
   "outputs": [
    {
     "name": "stdout",
     "output_type": "stream",
     "text": [
      "Stim Seizures:  37\n",
      "All Seizures:  81\n",
      "All Patients 30\n",
      "HUP Patients 19\n",
      "HUP Seizures:  63\n",
      "Annotator Distribution: \n",
      " [[ 1 16]\n",
      " [ 2  2]\n",
      " [ 3 57]\n",
      " [ 5 10]]\n"
     ]
    }
   ],
   "source": [
    "# Print dataset statistics for verification and data quality checks\n",
    "print('Stim Seizures: ',len(mdl_preds[mdl_preds.stim==1].approximate_onset.unique()))  # Count stimulated seizures\n",
    "print('All Seizures: ',mdl_preds.approximate_onset.nunique())  # Total seizures in dataset\n",
    "print('All Patients',len(mdl_preds.patient.unique()))  # Total number of patients\n",
    "print('HUP Patients', len(mdl_preds[mdl_preds.patient.apply(lambda x: 'HUP' in x)].patient.unique()))  # Hospital of University of Pennsylvania patients\n",
    "print('HUP Seizures: ', len(mdl_preds[mdl_preds.patient.apply(lambda x: 'HUP' in x)].approximate_onset.unique()))  # HUP seizures\n",
    "\n",
    "# Temporally align consensus annotations with model predictions using time-based matching\n",
    "# Uses 120-second tolerance window to account for slight timing differences\n",
    "x = pd.merge_asof(consensus_annots.sort_values('approximate_onset')[['patient','approximate_onset','clinician']],\n",
    "mdl_preds.sort_values('approximate_onset'),\n",
    "on='approximate_onset',by='patient',tolerance=120,direction='nearest')\n",
    "x['nannot'] = x.clinician.apply(len)  # Count number of annotators per seizure\n",
    "print('Annotator Distribution: \\n',x.groupby('nannot').count()['patient'].reset_index().values)  # Show how many seizures have each number of annotators"
   ]
  },
  {
   "cell_type": "code",
   "execution_count": 8,
   "metadata": {},
   "outputs": [],
   "source": [
    "# Sort model predictions for consistent processing across patients, seizures, thresholds, and models\n",
    "# This ensures reproducible results and proper grouping for threshold optimization\n",
    "mdl_preds_sorted = mdl_preds.sort_values(['patient','approximate_onset','threshold','model'])"
   ]
  },
  {
   "cell_type": "code",
   "execution_count": 9,
   "metadata": {},
   "outputs": [],
   "source": [
    "# Reshape data from wide to long format for analysis\n",
    "# Separate columns for onset (ueo) and secondary (sec) channel predictions with MCC scores\n",
    "melt_cols = [f'ueo_chs_{mdl_anntype}_{anntype}_MCC',f'sec_chs_{mdl_anntype}_{anntype}_MCC']\n",
    "keep_cols = [c for c in mdl_preds_sorted.columns if c not in melt_cols]\n",
    "# Transform to long format where each row represents one annotation type per seizure\n",
    "mdl_preds_long = mdl_preds_sorted.melt(id_vars=keep_cols,var_name='annot',value_name='MCC')"
   ]
  },
  {
   "cell_type": "code",
   "execution_count": 10,
   "metadata": {},
   "outputs": [],
   "source": [
    "# Split data into tuning and validation sets based on annotation type\n",
    "# ueo (Unequivocal Electrographic Onset) for threshold tuning\n",
    "tune_preds_long = mdl_preds_long[mdl_preds_long.annot == f'ueo_chs_{mdl_anntype}_{anntype}_MCC']\n",
    "# sec (Secondary) channels for independent validation of tuned thresholds  \n",
    "val_preds_long = mdl_preds_long[mdl_preds_long.annot == f'sec_chs_{mdl_anntype}_{anntype}_MCC']"
   ]
  },
  {
   "cell_type": "markdown",
   "metadata": {},
   "source": [
    "### Tuning at the patient level\n",
    "\n",
    "Find optimal classification thresholds for each patient individually by maximizing MCC agreement with clinician consensus."
   ]
  },
  {
   "cell_type": "markdown",
   "metadata": {},
   "source": [
    "#### Thresholds\n",
    "\n",
    "Identify optimal decision thresholds by finding the threshold value that maximizes MCC for each patient and stimulation condition."
   ]
  },
  {
   "cell_type": "code",
   "execution_count": 11,
   "metadata": {},
   "outputs": [],
   "source": [
    "# Calculate average MCC for each threshold across seizures within patient/model/stimulation groups\n",
    "avg_MCC_per_threshold = tune_preds_long.groupby(['patient', 'model', 'threshold','stim'])['MCC'].mean().reset_index()\n",
    "\n",
    "# Find the threshold that maximizes average MCC for each patient, model, and stimulation condition\n",
    "# This identifies patient-specific and stimulation-specific optimal thresholds\n",
    "threshold_list = avg_MCC_per_threshold.loc[avg_MCC_per_threshold.groupby(['patient', 'model','stim'])['MCC'].idxmax()]\n",
    "\n",
    "# Extract just the essential columns: patient, model, stimulation status, and optimal threshold\n",
    "threshold_list_stim_spec = threshold_list[['patient', 'model', 'stim','threshold']].reset_index(drop=True)"
   ]
  },
  {
   "cell_type": "code",
   "execution_count": 12,
   "metadata": {},
   "outputs": [],
   "source": [
    "# Save optimized thresholds for future use (currently commented out)\n",
    "# threshold_list_stim_spec.to_pickle(ospj(prodatapath,'patient_tuned_classification_thresholds_stim_sz-mean_v2.pkl'))"
   ]
  },
  {
   "cell_type": "code",
   "execution_count": 13,
   "metadata": {},
   "outputs": [],
   "source": [
    "# Filter tuning data to include only the optimal thresholds for each patient/model/stimulation combination\n",
    "tuned_thresholds = tune_preds_long[tune_preds_long.set_index(['patient', 'model', 'stim','threshold']).index.isin(threshold_list_stim_spec.set_index(['patient', 'model', 'stim','threshold']).index)]\n",
    "# Apply the same optimal thresholds to validation data for performance evaluation\n",
    "val_tuned_thresholds = val_preds_long[val_preds_long.set_index(['patient', 'model', 'stim', 'threshold']).index.isin(threshold_list_stim_spec.set_index(['patient', 'model', 'stim','threshold']).index)]"
   ]
  },
  {
   "cell_type": "code",
   "execution_count": 14,
   "metadata": {},
   "outputs": [],
   "source": [
    "# Alternative approach: merge tuning predictions with optimal thresholds using inner join\n",
    "# This creates datasets containing only predictions at the optimal threshold for each patient/model\n",
    "tuned_thresholds = tune_preds_long.merge(threshold_list[['patient', 'model', 'threshold']],on=['patient', 'model', 'threshold'],how='inner').reset_index()\n",
    "# Stimulation-specific version: includes stimulation status in the merging criteria\n",
    "tuned_thresholds_stim = tune_preds_long.merge(threshold_list_stim_spec[['patient', 'model', 'stim','threshold']],on=['patient', 'model', 'stim','threshold'],how='inner').reset_index()"
   ]
  },
  {
   "cell_type": "code",
   "execution_count": 15,
   "metadata": {},
   "outputs": [
    {
     "data": {
      "image/png": "[encoded data removed]",
      "text/plain": [
       "<Figure size 300x300 with 1 Axes>"
      ]
     },
     "metadata": {},
     "output_type": "display_data"
    }
   ],
   "source": [
    "# Visualization: Threshold tuning curves for a representative patient\n",
    "plot_pt = 'HUP235'  # Example patient for demonstration\n",
    "_,ax = plt.subplots(figsize=(3,3))\n",
    "\n",
    "# Plot MCC vs threshold for spontaneous seizures (blue lines, one per seizure)\n",
    "sns.lineplot(data=mdl_preds_long[(mdl_preds_long.annot == f'ueo_chs_{mdl_anntype}_{anntype}_MCC') &\n",
    " (mdl_preds_long.model == 'LSTM') & \n",
    " (mdl_preds_long.patient == plot_pt) & \n",
    " (mdl_preds_long.stim == 0)],x='threshold',y='MCC',hue='approximate_onset', palette = 'dark:b_r', errorbar=None,legend=False,alpha=0.5,ax=ax)\n",
    "\n",
    "# Plot MCC vs threshold for stimulated seizures (red lines)\n",
    "sns.lineplot(data=mdl_preds_long[(mdl_preds_long.annot == f'ueo_chs_{mdl_anntype}_{anntype}_MCC') &\n",
    " (mdl_preds_long.model == 'LSTM') & \n",
    " (mdl_preds_long.patient == plot_pt) & \n",
    " (mdl_preds_long.stim == 1)],x='threshold',y='MCC', color = 'red', errorbar=None,legend=False,alpha=0.5,ax=ax)\n",
    "\n",
    "# Mark optimal threshold for spontaneous seizures with vertical line and marker\n",
    "ax.plot([threshold_list_stim_spec[(threshold_list_stim_spec.patient==plot_pt) & \n",
    "(threshold_list_stim_spec.model=='LSTM') & \n",
    "(threshold_list_stim_spec.stim==0)].threshold.values]*2,[0,1],'--o',c='blue',\n",
    "markersize=12,linewidth=3,markevery=[1],fillstyle='none',markeredgewidth=2.5)\n",
    "\n",
    "# Mark optimal threshold for stimulated seizures with vertical line and marker\n",
    "ax.plot([\n",
    "    threshold_list_stim_spec[(threshold_list_stim_spec.patient==plot_pt) & \n",
    "    (threshold_list_stim_spec.model=='LSTM') & \n",
    "    (threshold_list_stim_spec.stim==1)].threshold.values]*2,\n",
    "    [0, tuned_thresholds_stim[(tuned_thresholds_stim.model=='LSTM') & \n",
    "    (tuned_thresholds_stim.patient==plot_pt) & \n",
    "    (tuned_thresholds_stim.stim==1)].MCC.values[0]],\n",
    "'--o',c='red',markersize=12,linewidth=3,markevery=[1],fillstyle='none',markeredgewidth=2.5)\n",
    "\n",
    "sns.despine()\n",
    "ax.set_xlabel('Threshold ($NDD$)')  # NDD = Neural Decoding Detector\n",
    "ax.set_ylabel('Agreement ($\\phi$)')  # φ (phi) = MCC score\n",
    "plt.savefig(ospj(figpath,'figure_2_Bii.pdf'),bbox_inches='tight')"
   ]
  },
  {
   "cell_type": "code",
   "execution_count": 16,
   "metadata": {},
   "outputs": [
    {
     "name": "stdout",
     "output_type": "stream",
     "text": [
      "p-value annotation legend:\n",
      "      ns: 1.00e-01 < p <= 1.00e+00\n",
      "       x: 5.00e-02 < p <= 1.00e-01\n",
      "       *: 1.00e-02 < p <= 5.00e-02\n",
      "      **: 1.00e-03 < p <= 1.00e-02\n",
      "     ***: 1.00e-04 < p <= 1.00e-03\n",
      "    ****: p <= 1.00e-04\n",
      "\n",
      "0.0 vs. 1.0: Custom statistical test, P_val:6.000e-04\n",
      "Average Optimal Spontaneous Threshold: 1.6322369219565476\n",
      "Median Optimal Spontaneous Threshold: 1.5246995994659545\n",
      "LeveneResult(statistic=np.float64(13.31463877664299), pvalue=np.float64(0.0006285218194644076))\n",
      "Number of rows in non-stim group (stim==0): 22\n",
      "Number of rows in stim group (stim==1): 30\n"
     ]
    },
    {
     "data": {
      "image/png": "[encoded data removed]",
      "text/plain": [
       "<Figure size 200x500 with 1 Axes>"
      ]
     },
     "metadata": {},
     "output_type": "display_data"
    }
   ],
   "source": [
    "# Compare optimal thresholds between stimulated and spontaneous seizures\n",
    "_,ax = plt.subplots(figsize=(2,5))\n",
    "\n",
    "# Filter for LSTM model and exclude problematic patient\n",
    "plot_thresholds = threshold_list_stim_spec[threshold_list_stim_spec.model == 'LSTM']\n",
    "plot_thresholds = plot_thresholds[plot_thresholds.patient != 'CHOP015']\n",
    "\n",
    "# Create comprehensive visualization: swarm plot (individual points) + box plot (distribution) + mean markers\n",
    "sns.swarmplot(plot_thresholds,x='stim',y='threshold',color='gray',alpha=0.5)  # Individual data points\n",
    "sns.pointplot(plot_thresholds,x='stim',y='threshold',palette=['blue','red'],\n",
    "            marker='_',markersize=40,errorbar=None,estimator='mean')  # Mean values as horizontal lines\n",
    "sns.boxplot(plot_thresholds,x='stim',y='threshold',palette=['blue','red'],width=.6,notch=True,fill=False)  # Distribution quartiles\n",
    "\n",
    "sns.despine()\n",
    "plt.xticks([0,1],['Spont','Stim'])  # Label x-axis clearly\n",
    "plt.xlabel('')\n",
    "plt.ylabel('Threshold ($NDD$)')\n",
    "\n",
    "# Add statistical significance annotation\n",
    "annotator = Annotator(ax,[(True,False)],data=plot_thresholds,x='stim',y='threshold')\n",
    "annotator.configure(test=None,loc='outside',text_format='star',fontsize=14,\n",
    "        pvalue_thresholds=[[1e-4, \"****\"], [1e-3, \"***\"], [1e-2, \"**\"], [0.05, \"*\"], [0.1, \"x\"],[1, \"ns\"]])\n",
    "annotator.set_pvalues([0.0006]).annotate()  # P-value from R statistical analysis\n",
    "\n",
    "plt.savefig(ospj(figpath,'figure_2_C.pdf'),bbox_inches='tight')\n",
    "\n",
    "# Print descriptive statistics for interpretation\n",
    "print(f'Average Optimal Spontaneous Threshold: {plot_thresholds[plot_thresholds.stim == 0].threshold.mean()}')\n",
    "print(f'Median Optimal Spontaneous Threshold: {plot_thresholds[plot_thresholds.stim == 0].threshold.median()}')\n",
    "# Test for equal variances between groups using Levene's test\n",
    "print(sc.stats.levene(plot_thresholds[plot_thresholds.stim==0].threshold,\n",
    "plot_thresholds[plot_thresholds.stim==1].threshold))\n",
    "print(\"Number of rows in non-stim group (stim==0):\", plot_thresholds[plot_thresholds.stim == 0].shape[0])\n",
    "print(\"Number of rows in stim group (stim==1):\", plot_thresholds[plot_thresholds.stim == 1].shape[0])"
   ]
  },
  {
   "cell_type": "code",
   "execution_count": 17,
   "metadata": {},
   "outputs": [
    {
     "name": "stdout",
     "output_type": "stream",
     "text": [
      "Saved plot_thresholds to /Users/wojemann/Documents/CNT/stim_seizures_data/PROCESSED_DATA/plot_thresholds_for_lme.csv\n",
      "Columns: ['patient', 'model', 'stim', 'threshold']\n",
      "Shape: (52, 4)\n",
      "Sample data:\n",
      "    patient model  stim  threshold\n",
      "1   CHOP005  LSTM   1.0   3.492657\n",
      "4   CHOP010  LSTM   1.0   1.970628\n",
      "7   CHOP024  LSTM   1.0   2.873164\n",
      "10  CHOP026  LSTM   1.0   2.841121\n",
      "13  CHOP028  LSTM   1.0   2.098798\n"
     ]
    }
   ],
   "source": [
    "# Export optimal threshold data for advanced statistical analysis in R\n",
    "# This enables linear mixed-effects modeling to account for patient-level clustering\n",
    "plot_thresholds.to_csv(ospj(prodatapath, 'plot_thresholds_for_lme.csv'), index=False)\n",
    "print(f\"Saved plot_thresholds to {ospj(prodatapath, 'plot_thresholds_for_lme.csv')}\")\n",
    "print(f\"Columns: {list(plot_thresholds.columns)}\")\n",
    "print(f\"Shape: {plot_thresholds.shape}\")\n",
    "print(f\"Sample data:\")\n",
    "print(plot_thresholds.head())"
   ]
  },
  {
   "cell_type": "markdown",
   "metadata": {},
   "source": [
    "#### Benchmark models\n",
    "\n",
    "Compare optimized model performance against clinician inter-rater agreement and other baseline methods."
   ]
  },
  {
   "cell_type": "code",
   "execution_count": 18,
   "metadata": {},
   "outputs": [],
   "source": [
    "# Combine model performance at optimal thresholds with clinician inter-rater agreement\n",
    "# This creates a unified dataset for comparing automated models against human consensus\n",
    "all_plot_agreements = pd.concat([tuned_thresholds_stim,consensus_annots[[\"patient\",\"approximate_onset\",\"model\",\"MCC\"]]]).reset_index(drop=True)"
   ]
  },
  {
   "cell_type": "code",
   "execution_count": 19,
   "metadata": {},
   "outputs": [
    {
     "data": {
      "text/html": [
       "<div>\n",
       "<style scoped>\n",
       "    .dataframe tbody tr th:only-of-type {\n",
       "        vertical-align: middle;\n",
       "    }\n",
       "\n",
       "    .dataframe tbody tr th {\n",
       "        vertical-align: top;\n",
       "    }\n",
       "\n",
       "    .dataframe thead th {\n",
       "        text-align: right;\n",
       "    }\n",
       "</style>\n",
       "<table border=\"1\" class=\"dataframe\">\n",
       "  <thead>\n",
       "    <tr style=\"text-align: right;\">\n",
       "      <th></th>\n",
       "      <th>patient</th>\n",
       "      <th>approximate_onset</th>\n",
       "      <th>model</th>\n",
       "      <th>annotator</th>\n",
       "      <th>Phi</th>\n",
       "    </tr>\n",
       "  </thead>\n",
       "  <tbody>\n",
       "    <tr>\n",
       "      <th>0</th>\n",
       "      <td>HUP229</td>\n",
       "      <td>1109.40</td>\n",
       "      <td>LSTM</td>\n",
       "      <td>MCC</td>\n",
       "      <td>0.693159</td>\n",
       "    </tr>\n",
       "    <tr>\n",
       "      <th>1</th>\n",
       "      <td>CHOP010</td>\n",
       "      <td>2230.26</td>\n",
       "      <td>LSTM</td>\n",
       "      <td>MCC</td>\n",
       "      <td>0.487950</td>\n",
       "    </tr>\n",
       "    <tr>\n",
       "      <th>2</th>\n",
       "      <td>CHOP035</td>\n",
       "      <td>2872.35</td>\n",
       "      <td>LSTM</td>\n",
       "      <td>MCC</td>\n",
       "      <td>0.867346</td>\n",
       "    </tr>\n",
       "    <tr>\n",
       "      <th>3</th>\n",
       "      <td>HUP230</td>\n",
       "      <td>3860.24</td>\n",
       "      <td>LSTM</td>\n",
       "      <td>MCC</td>\n",
       "      <td>0.490566</td>\n",
       "    </tr>\n",
       "    <tr>\n",
       "      <th>4</th>\n",
       "      <td>CHOP026</td>\n",
       "      <td>4838.94</td>\n",
       "      <td>LSTM</td>\n",
       "      <td>MCC</td>\n",
       "      <td>0.105017</td>\n",
       "    </tr>\n",
       "  </tbody>\n",
       "</table>\n",
       "</div>"
      ],
      "text/plain": [
       "   patient  approximate_onset model annotator       Phi\n",
       "0   HUP229            1109.40  LSTM       MCC  0.693159\n",
       "1  CHOP010            2230.26  LSTM       MCC  0.487950\n",
       "2  CHOP035            2872.35  LSTM       MCC  0.867346\n",
       "3   HUP230            3860.24  LSTM       MCC  0.490566\n",
       "4  CHOP026            4838.94  LSTM       MCC  0.105017"
      ]
     },
     "execution_count": 19,
     "metadata": {},
     "output_type": "execute_result"
    }
   ],
   "source": [
    "# Create paired comparison between model and interrater agreement for the same seizures\n",
    "# This allows direct statistical comparison of model vs human performance\n",
    "consensus_annots_df = consensus_annots.copy()\n",
    "tuned_thresholds_stim_df = tuned_thresholds_stim.copy()\n",
    "consensus_annots_df['interrater_MCC'] = consensus_annots_df['MCC']  # Rename for clarity\n",
    "consensus_annots_df.sort_values('approximate_onset', inplace=True)\n",
    "tuned_thresholds_stim_df.sort_values('approximate_onset', inplace=True)\n",
    "\n",
    "# Filter for LSTM model results\n",
    "lstm_thresholds = tuned_thresholds_stim_df[tuned_thresholds_stim_df.model == 'LSTM']\n",
    "\n",
    "# Temporally match LSTM predictions with corresponding interrater agreements\n",
    "merged_agreement = pd.merge_asof(\n",
    "    lstm_thresholds,\n",
    "    consensus_annots_df[['patient', 'approximate_onset', 'interrater_MCC']],\n",
    "    on=['approximate_onset'],\n",
    "    by=['patient'],\n",
    "    direction='nearest'\n",
    ")\n",
    "merged_agreement = merged_agreement.dropna(subset=['MCC', 'interrater_MCC'])  # Remove cases with missing data\n",
    "\n",
    "# Reshape to long format for statistical analysis\n",
    "agreement_long = merged_agreement.melt(\n",
    "    id_vars=['patient', 'approximate_onset', 'model'],\n",
    "    value_vars=['MCC', 'interrater_MCC'],\n",
    "    var_name='annotator',\n",
    "    value_name='Phi'\n",
    ")\n",
    "agreement_long.to_csv(ospj(prodatapath, 'model-interrater_agreement.csv'), index=False)\n",
    "agreement_long.head()"
   ]
  },
  {
   "cell_type": "code",
   "execution_count": 20,
   "metadata": {},
   "outputs": [],
   "source": [
    "# Rename models for cleaner visualization and publication\n",
    "all_plot_agreements.loc[all_plot_agreements.model == 'LSTM',['model']] = 'NDD'  # Neural Decoding Detector\n",
    "all_plot_agreements.loc[all_plot_agreements.model == 'WVNT',['model']] = 'DL'   # Deep Learning (wavenet)\n",
    "all_plot_agreements.loc[all_plot_agreements.model == 'Clin.',['model']] = 'Interrater'  # Clinician consensus"
   ]
  },
  {
   "cell_type": "code",
   "execution_count": 21,
   "metadata": {},
   "outputs": [
    {
     "name": "stdout",
     "output_type": "stream",
     "text": [
      "Saved onset all_plot_agreements to /Users/wojemann/Documents/CNT/stim_seizures_data/PROCESSED_DATA/onset_all_plot_agreements_for_lme.csv\n",
      "Columns: ['index', 'patient', 'iEEG_ID', 'model', 'stim', 'approximate_onset', 'ueo_time_consensus', 'threshold', 'ueo_chs_strict', 'ueo_chs_loose', 'sec_chs_strict', 'sec_chs_loose', 'to_annotate', 'all_chs', 'ueo_consensus', 'ueo_any', 'sec_consensus', 'sec_any', 'ueo_chs_strict_bool', 'ueo_chs_strict_any_MCC', 'ueo_chs_loose_bool', 'ueo_chs_loose_consensus_MCC', 'ueo_chs_loose_any_MCC', 'sec_chs_strict_bool', 'sec_chs_strict_any_MCC', 'sec_chs_loose_bool', 'sec_chs_loose_consensus_MCC', 'sec_chs_loose_any_MCC', 'annot', 'MCC', 'analysis_type']\n",
      "Shape: (328, 31)\n"
     ]
    }
   ],
   "source": [
    "# Export onset agreement data for statistical modeling in R  \n",
    "# Includes model performance and interrater agreement for comparative analysis\n",
    "onset_all_plot_agreements = all_plot_agreements.copy()\n",
    "onset_all_plot_agreements['analysis_type'] = 'onset'  # Label analysis type for multi-analysis datasets\n",
    "onset_all_plot_agreements.to_csv(ospj(prodatapath, 'onset_all_plot_agreements_for_lme.csv'), index=False)\n",
    "print(f\"Saved onset all_plot_agreements to {ospj(prodatapath, 'onset_all_plot_agreements_for_lme.csv')}\")\n",
    "print(f\"Columns: {list(onset_all_plot_agreements.columns)}\")\n",
    "print(f\"Shape: {onset_all_plot_agreements.shape}\")"
   ]
  },
  {
   "cell_type": "code",
   "execution_count": null,
   "metadata": {},
   "outputs": [
    {
     "name": "stdout",
     "output_type": "stream",
     "text": [
      "p-value annotation legend:\n",
      "      ns: 5.00e-02 < p <= 1.00e+00\n",
      "       *: 1.00e-02 < p <= 5.00e-02\n",
      "      **: 1.00e-03 < p <= 1.00e-02\n",
      "     ***: 1.00e-04 < p <= 1.00e-03\n",
      "    ****: p <= 1.00e-04\n",
      "\n",
      "DL vs. NDD: Custom statistical test, P_val:6.000e-04\n",
      "NDD vs. Interrater: Custom statistical test, P_val:6.000e-02\n",
      "AbsSlp vs. NDD: Custom statistical test, P_val:3.000e-04\n",
      "Number of annotated seizures (rows) shared between each model class:\n",
      "AbsSlp vs DL: n = 81\n",
      "AbsSlp vs NDD: n = 81\n",
      "DL vs NDD: n = 81\n"
     ]
    },
    {
     "data": {
      "image/png": "[encoded data removed]",
      "text/plain": [
       "<Figure size 400x500 with 1 Axes>"
      ]
     },
     "metadata": {},
     "output_type": "display_data"
    }
   ],
   "source": [
    "# Create comprehensive model comparison visualization\n",
    "colors = np.array(sns.color_palette(\"deep\", 4))\n",
    "colors = colors[[1]]  # Extract color for NDD model highlighting\n",
    "_,ax = plt.subplots(figsize=(4,5))\n",
    "\n",
    "# Multi-layer visualization: individual points + means + distribution\n",
    "sns.swarmplot(all_plot_agreements,x='model',y='MCC',color='gray', order = ['AbsSlp','DL','NDD','Interrater'],alpha=0.5)\n",
    "sns.pointplot(all_plot_agreements,x='model',y='MCC',palette=np.vstack([[.5,.5,.5],[.5,.5,.5],colors,[.5,.5,.5]]),\n",
    "              order = ['AbsSlp','DL','NDD','Interrater'],marker='_',markersize=50,errorbar=None)  # Mean indicators\n",
    "sns.boxplot(all_plot_agreements,x='model',y='MCC',palette=np.vstack([[.5,.5,.5],[.5,.5,.5],colors,[.5,.5,.5]]),\n",
    "                 order=['AbsSlp','DL','NDD','Interrater'],width=.6,notch=True,fill=False)  # Quartile distributions\n",
    "sns.despine()\n",
    "\n",
    "# Add statistical significance annotations for key comparisons\n",
    "annotator = Annotator(ax,[('NDD','DL'),('NDD','AbsSlp'),('NDD','Interrater')],data=all_plot_agreements,x='model',y='MCC')\n",
    "annotator.configure(test=None,comparisons_correction=None,loc='outside',text_format='star',fontsize=14,\n",
    "        pvalue_thresholds=[[1e-4, \"****\"], [1e-3, \"***\"], [1e-2, \"**\"], [0.05, \"*\"],[1, \"ns\"]],\n",
    "        text_offset=1,line_offset=-2,line_height=0)\n",
    "annotator.set_pvalues([0.0006,0.0003,0.06])  # P-values from R mixed-effects analysis\n",
    "annotator.annotate()\n",
    "\n",
    "plt.ylabel('Agreement ($\\phi$)')  # φ symbol for MCC coefficient\n",
    "plt.savefig(ospj(figpath,'figure_2_D.pdf'),bbox_inches='tight')\n",
    "\n",
    "# Calculate sample size overlaps between models for statistical interpretation\n",
    "model_classes = all_plot_agreements['model'].unique()\n",
    "print(\"Number of annotated seizures (rows) shared between each model class:\")\n",
    "for i, model1 in enumerate(model_classes):\n",
    "    for j, model2 in enumerate(model_classes):\n",
    "        if 'Interrater' in [model1,model2]:  # Skip interrater comparisons\n",
    "            continue\n",
    "        if j <= i:  # Avoid duplicate pairs\n",
    "            continue\n",
    "        # Count seizures evaluated by both models\n",
    "        ids1 = set(all_plot_agreements[all_plot_agreements['model'] == model1]['approximate_onset'])\n",
    "        ids2 = set(all_plot_agreements[all_plot_agreements['model'] == model2]['approximate_onset'])\n",
    "        shared = ids1 & ids2\n",
    "        print(f\"{model1} vs {model2}: n = {len(shared)}\")"
   ]
  },
  {
   "cell_type": "code",
   "execution_count": 23,
   "metadata": {},
   "outputs": [
    {
     "name": "stdout",
     "output_type": "stream",
     "text": [
      "AbsSlp: Med 0.4 [0.22, 0.62]\n",
      "DL: Med 0.44 [0.27, 0.65]\n",
      "Interrater: Med 0.7 [0.48, 0.82]\n",
      "NDD: Med 0.57 [0.38, 0.7]\n"
     ]
    },
    {
     "data": {
      "text/html": [
       "<div>\n",
       "<style scoped>\n",
       "    .dataframe tbody tr th:only-of-type {\n",
       "        vertical-align: middle;\n",
       "    }\n",
       "\n",
       "    .dataframe tbody tr th {\n",
       "        vertical-align: top;\n",
       "    }\n",
       "\n",
       "    .dataframe thead th {\n",
       "        text-align: right;\n",
       "    }\n",
       "</style>\n",
       "<table border=\"1\" class=\"dataframe\">\n",
       "  <thead>\n",
       "    <tr style=\"text-align: right;\">\n",
       "      <th></th>\n",
       "    </tr>\n",
       "  </thead>\n",
       "  <tbody>\n",
       "  </tbody>\n",
       "</table>\n",
       "</div>"
      ],
      "text/plain": [
       "Empty DataFrame\n",
       "Columns: []\n",
       "Index: []"
      ]
     },
     "execution_count": 23,
     "metadata": {},
     "output_type": "execute_result"
    }
   ],
   "source": [
    "# Generate summary statistics for each model's agreement performance\n",
    "def summary_fun(group):\n",
    "    x = group['MCC']  # Changed from 'dice' to 'MCC' to match actual column name\n",
    "    med = np.round(x.median(),2)  # Median agreement score\n",
    "    lower = np.round(np.nanpercentile(x,25,method='nearest'),2)  # 25th percentile (Q1)\n",
    "    upper = np.round(np.nanpercentile(x,75,method='nearest'),2)  # 75th percentile (Q3)\n",
    "    print(f\"{group.model.iloc[0]}: Med {med} [{lower}, {upper}]\")  # Report median [IQR]\n",
    "    return None\n",
    "\n",
    "all_plot_agreements.groupby('model').apply(summary_fun)"
   ]
  },
  {
   "cell_type": "markdown",
   "metadata": {},
   "source": [
    "#### Stim vs. Spont\n",
    "\n",
    "Compare model agreement performance between stimulated and spontaneous seizures to assess if stimulation affects detection accuracy."
   ]
  },
  {
   "cell_type": "code",
   "execution_count": 24,
   "metadata": {},
   "outputs": [
    {
     "name": "stdout",
     "output_type": "stream",
     "text": [
      "NDD stim group n = 37\n",
      "NDD non-stim group n = 44\n"
     ]
    }
   ],
   "source": [
    "# Calculate sample sizes for stimulated vs spontaneous seizure comparison\n",
    "ndd_stim = all_plot_agreements[(all_plot_agreements.stim == 1) & (all_plot_agreements.model == 'NDD')]\n",
    "ndd_nonstim = all_plot_agreements[(all_plot_agreements.stim == 0) & (all_plot_agreements.model == 'NDD')]\n",
    "print(f\"NDD stim group n = {len(ndd_stim)}\")      # Number of stimulated seizures\n",
    "print(f\"NDD non-stim group n = {len(ndd_nonstim)}\")  # Number of spontaneous seizures\n"
   ]
  },
  {
   "cell_type": "code",
   "execution_count": 25,
   "metadata": {},
   "outputs": [
    {
     "name": "stdout",
     "output_type": "stream",
     "text": [
      "p-value annotation legend:\n",
      "      ns: 1.00e-01 < p <= 1.00e+00\n",
      "       x: 5.00e-02 < p <= 1.00e-01\n",
      "       *: 1.00e-02 < p <= 5.00e-02\n",
      "      **: 1.00e-03 < p <= 1.00e-02\n",
      "     ***: 1.00e-04 < p <= 1.00e-03\n",
      "    ****: p <= 1.00e-04\n",
      "\n",
      "0.0 vs. 1.0: Mann-Whitney-Wilcoxon test two-sided, P_val:5.283e-01 U_stat=8.810e+02\n"
     ]
    },
    {
     "data": {
      "image/png": "[encoded data removed]",
      "text/plain": [
       "<Figure size 200x500 with 1 Axes>"
      ]
     },
     "metadata": {},
     "output_type": "display_data"
    }
   ],
   "source": [
    "# Visualize NDD model performance: stimulated vs spontaneous seizures\n",
    "fig,ax=plt.subplots(figsize=(2,5))\n",
    "colors = np.array(sns.color_palette(\"deep\", 4))\n",
    "colors = colors[[1,1]]  # Use same color for both groups\n",
    "stim_plot_agreements = all_plot_agreements[all_plot_agreements.model == 'NDD']\n",
    "\n",
    "# Multi-layer visualization: points + means + distributions\n",
    "sns.swarmplot(stim_plot_agreements,x='stim',y='MCC',color='gray',alpha=0.5)  # Individual data points\n",
    "sns.pointplot(stim_plot_agreements,x='stim',y='MCC',palette=colors,\n",
    "            marker='_',markersize=40,errorbar=None,estimator='mean')  # Mean values\n",
    "sns.boxplot(stim_plot_agreements,x='stim',y='MCC',palette=colors,width=.6,notch=True,fill=False)  # Distribution quartiles\n",
    "\n",
    "sns.despine()\n",
    "plt.xticks([0,1],['Spont','Stim'])  # Clear group labels\n",
    "plt.xlabel('')\n",
    "plt.ylabel('Agreement ($\\phi$)')\n",
    "\n",
    "# Statistical comparison using Mann-Whitney U test (non-parametric)\n",
    "annotator = Annotator(ax,[(True,False)],data=stim_plot_agreements,x='stim',y='MCC')\n",
    "annotator.configure(test='Mann-Whitney',loc='outside',text_format='star',fontsize=14,\n",
    "        pvalue_thresholds=[[1e-4, \"****\"], [1e-3, \"***\"], [1e-2, \"**\"], [0.05, \"*\"], [0.1, \"x\"],[1, \"ns\"]])\n",
    "annotator.apply_and_annotate()  # Automatically calculates and displays p-value\n",
    "plt.savefig(ospj(figpath,'figure_2_E.pdf'),bbox_inches='tight')"
   ]
  },
  {
   "cell_type": "code",
   "execution_count": 26,
   "metadata": {},
   "outputs": [
    {
     "name": "stdout",
     "output_type": "stream",
     "text": [
      "Saved stim vs spontaneous agreements to /Users/wojemann/Documents/CNT/stim_seizures_data/PROCESSED_DATA/stim_vs_spont_agreements_for_lme.csv\n",
      "Columns: ['index', 'patient', 'iEEG_ID', 'model', 'stim', 'approximate_onset', 'ueo_time_consensus', 'threshold', 'ueo_chs_strict', 'ueo_chs_loose', 'sec_chs_strict', 'sec_chs_loose', 'to_annotate', 'all_chs', 'ueo_consensus', 'ueo_any', 'sec_consensus', 'sec_any', 'ueo_chs_strict_bool', 'ueo_chs_strict_any_MCC', 'ueo_chs_loose_bool', 'ueo_chs_loose_consensus_MCC', 'ueo_chs_loose_any_MCC', 'sec_chs_strict_bool', 'sec_chs_strict_any_MCC', 'sec_chs_loose_bool', 'sec_chs_loose_consensus_MCC', 'sec_chs_loose_any_MCC', 'annot', 'MCC', 'analysis_type']\n",
      "Shape: (81, 31)\n",
      "Sample data:\n",
      "    index  patient       iEEG_ID model  stim  approximate_onset  \\\n",
      "2     2.0  CHOP005       CHOP005   NDD   1.0           68881.53   \n",
      "5     5.0  CHOP010  CHOPCCEP_010   NDD   1.0            2230.26   \n",
      "8     8.0  CHOP024  CHOPCCEP_024   NDD   1.0           87579.25   \n",
      "11   11.0  CHOP026  CHOPCCEP_026   NDD   1.0            4838.94   \n",
      "14   14.0  CHOP026  CHOPCCEP_026   NDD   1.0           10208.16   \n",
      "\n",
      "    ueo_time_consensus  threshold  \\\n",
      "2             68881.53   3.492657   \n",
      "5              2230.26   1.970628   \n",
      "8             87579.25   2.873164   \n",
      "11             4838.94   2.841121   \n",
      "14            10208.16   2.841121   \n",
      "\n",
      "                                       ueo_chs_strict  \\\n",
      "2   [LK02, LK04, LK05, LK06, LK07, LK08, LK09, LK1...   \n",
      "5   [LA04, LA05, LA06, RG01, RG02, RG03, RG04, RG0...   \n",
      "8                                  [LF01, LF05, LE09]   \n",
      "11         [LN06, LO03, LR03, LR04, LP03, LK06, LK07]   \n",
      "14                                 [LA01, LB01, LB02]   \n",
      "\n",
      "                                        ueo_chs_loose  ...  \\\n",
      "2   [LI04, LI05, LI06, LI07, LI08, LI09, LK02, LK0...  ...   \n",
      "5   [LA04, LA05, LA06, LA07, LB08, LB09, LB10, RG0...  ...   \n",
      "8                [LE09, LE10, LF01, LF02, LF05, LF06]  ...   \n",
      "11  [LK06, LK07, LK08, LN06, LN07, LO03, LO04, LP0...  ...   \n",
      "14                     [LA01, LA02, LB01, LB02, LB03]  ...   \n",
      "\n",
      "   ueo_chs_loose_consensus_MCC ueo_chs_loose_any_MCC  \\\n",
      "2                     0.266793              0.373303   \n",
      "5                     0.420560              0.574803   \n",
      "8                     0.526201              0.515346   \n",
      "11                    0.062880              0.104732   \n",
      "14                    0.628353              0.664489   \n",
      "\n",
      "                                  sec_chs_strict_bool sec_chs_strict_any_MCC  \\\n",
      "2   [False, False, False, False, False, False, Fal...               0.207994   \n",
      "5   [False, False, True, True, True, True, False, ...               0.621731   \n",
      "8   [False, False, False, False, False, False, Fal...               0.000000   \n",
      "11  [False, False, False, False, False, False, Fal...               0.343872   \n",
      "14  [True, False, False, False, False, False, Fals...               0.514169   \n",
      "\n",
      "                                   sec_chs_loose_bool  \\\n",
      "2   [False, False, False, False, False, False, Fal...   \n",
      "5   [False, False, True, True, True, True, True, F...   \n",
      "8   [False, False, False, False, False, False, Fal...   \n",
      "11  [False, False, False, False, False, False, Fal...   \n",
      "14  [True, False, False, False, False, False, Fals...   \n",
      "\n",
      "   sec_chs_loose_consensus_MCC sec_chs_loose_any_MCC  \\\n",
      "2                     0.319035              0.251745   \n",
      "5                     0.402993              0.513159   \n",
      "8                     0.000000              0.000000   \n",
      "11                    0.366310              0.260824   \n",
      "14                    0.501573              0.587262   \n",
      "\n",
      "                           annot       MCC        analysis_type  \n",
      "2   ueo_chs_strict_consensus_MCC  0.201412  stim_vs_spontaneous  \n",
      "5   ueo_chs_strict_consensus_MCC  0.487950  stim_vs_spontaneous  \n",
      "8   ueo_chs_strict_consensus_MCC  0.233723  stim_vs_spontaneous  \n",
      "11  ueo_chs_strict_consensus_MCC  0.105017  stim_vs_spontaneous  \n",
      "14  ueo_chs_strict_consensus_MCC  0.814735  stim_vs_spontaneous  \n",
      "\n",
      "[5 rows x 31 columns]\n"
     ]
    }
   ],
   "source": [
    "# Export stimulated vs spontaneous seizure comparison data for advanced statistical analysis\n",
    "# This enables mixed-effects modeling to control for patient-specific effects in R\n",
    "stim_vs_spont_agreements = stim_plot_agreements.copy()\n",
    "stim_vs_spont_agreements['analysis_type'] = 'stim_vs_spontaneous'  # Label analysis type\n",
    "stim_vs_spont_agreements.to_csv(ospj(prodatapath, 'stim_vs_spont_agreements_for_lme.csv'), index=False)\n",
    "print(f\"Saved stim vs spontaneous agreements to {ospj(prodatapath, 'stim_vs_spont_agreements_for_lme.csv')}\")\n",
    "print(f\"Columns: {list(stim_vs_spont_agreements.columns)}\")\n",
    "print(f\"Shape: {stim_vs_spont_agreements.shape}\")\n",
    "print(f\"Sample data:\")\n",
    "print(stim_vs_spont_agreements.head())"
   ]
  }
 ],
 "metadata": {
  "kernelspec": {
   "display_name": "stim-env",
   "language": "python",
   "name": "python3"
  },
  "language_info": {
   "codemirror_mode": {
    "name": "ipython",
    "version": 3
   },
   "file_extension": ".py",
   "mimetype": "text/x-python",
   "name": "python",
   "nbconvert_exporter": "python",
   "pygments_lexer": "ipython3",
   "version": "3.10.16"
  }
 },
 "nbformat": 4,
 "nbformat_minor": 2
}
